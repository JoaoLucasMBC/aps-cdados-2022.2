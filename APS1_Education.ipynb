{
 "cells": [
  {
   "cell_type": "markdown",
   "metadata": {},
   "source": [
    "# APS 1 - Educação\n",
    "## Análise da Porcentagem de Alfabetização"
   ]
  },
  {
   "cell_type": "markdown",
   "metadata": {},
   "source": []
  }
 ],
 "metadata": {
  "kernelspec": {
   "display_name": "Python 3.10.2 64-bit",
   "language": "python",
   "name": "python3"
  },
  "language_info": {
   "name": "python",
   "version": "3.10.2"
  },
  "orig_nbformat": 4,
  "vscode": {
   "interpreter": {
    "hash": "c41a0a25144bec0c9f74b59ac53d481256742d76741725bc0eb1b3ed809858fd"
   }
  }
 },
 "nbformat": 4,
 "nbformat_minor": 2
}
