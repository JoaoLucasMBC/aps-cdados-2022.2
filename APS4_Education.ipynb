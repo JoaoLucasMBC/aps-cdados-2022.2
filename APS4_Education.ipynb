{
 "cells": [
  {
   "cell_type": "markdown",
   "metadata": {},
   "source": [
    "Atividade Prática Supervisionada - Entrega 4 - Teste de Hipótese\n",
    "# ***ONU - Análise de Objetivo de Desenvolvimento Sustentável***\n",
    "### **Teste de Blocos Econômicos e Desenvolvimento**\n",
    "\n",
    "Integrantes:  \n",
    "* Eduardo Mendes Vaz  \n",
    "* João Lucas de Moraes Barros Cadorniga  \n",
    "\n",
    "---"
   ]
  },
  {
   "cell_type": "markdown",
   "metadata": {},
   "source": [
    "## **Introdução**  \n",
    "\n",
    "Na primeira análise do desenvolvimento mundial em relação ao Objetivo de Desenvolvimento Sustentável IV da ONU — o de investimento e melhoria das oportunidades educacionais —, utilizamos o fator `Investimento Governamental em Educação, como % do PIB`¹ ao longo dos anos. Agora, com probabilidade e estatística, temos **o objetivo de analisar e classificar dois blocos econômicos** em relação a esses dados.  \n",
    "\n",
    "## 1. Mercosul  \n",
    "\n",
    "O primeiro bloco é o ***Mercado Comum do Sul***, um dos maiores do hemisfério sul. Ele surgiu em 1991 como um processo de integração regional, inicialmente entre Argentina, Brasil, Paraguai e Uruguai — hoje admitindo direitos a outras nações sul-americanas.\n",
    "\n",
    "Desde sua criação com o Tratado de Assunção, seu maior foco foram alicerces de **desenvolvimento econômico** e democrático. No entanto, também vigoram acordos migratórios, trabalhistas, entre outros. O bloco surgiu principalmente pela proximidade geográfica, mas também pela convergência cultural e econômica.\n",
    "\n",
    "**Principais benefícios do bloco²:**\n",
    "1. Residência legal com igualdade de direitos;\n",
    "2. Turismo sem passaporte;\n",
    "3. Transferência de educação pelos países;\n",
    "\n",
    "* **A diminuição ou até `isenção de barreiras tarifárias` sobre o comércio de bens.** Além de acordos facilitados entre os membros da considerada **quinta economia do mundo**.\n",
    "\n",
    "\n",
    "## 2. União Européia\n",
    "\n",
    "Analogamente, o outro bloco analisado é a ***União Europeia***, que é considerada um dos mais poderosos do mundo — tanto por possuir inúmeros grandes países como membros, quanto por sua longa história.\n",
    "\n",
    "Composto por 27 países-membros, o grupo surgiu especialmente por proximidade geográfica no continente, como uma maneira de unir as economias da Europa pelo Tratado de Maastricht, em 1992. Apesar de **foco *econômico***, a UE tem grande **solidez em objetivos sustentáveis e sociais**.³\n",
    "\n",
    "**Principais benefícios do bloco³**:\n",
    "1. Livre circulação de pessoas sem visto;  \n",
    "2. Acordos de diminuição de taxas e livre circulação de mercadorias;\n",
    "3. Proteção conjunta dos países;\n",
    "\n",
    "* **A participação no *maior mercado único do mundo*, com `moeda unificada, o Euro`, e serviços telefônicos e digitais unificados.**\n",
    "\n",
    "  \n",
    "¹ Fonte: [World Bank](https://databank.worldbank.org/reports.aspx?source=sustainable-development-goals-%28sdgs%29#)  \n",
    "² Fonte: [Mercosul](https://www.mercosur.int/pt-br/beneficios-do-mercosul-rumo-aos-seus-28-anos/)  \n",
    "³ Fonte: [European Union](https://european-union.europa.eu/priorities-and-actions/achievements_pt)"
   ]
  },
  {
   "cell_type": "markdown",
   "metadata": {},
   "source": [
    "## **Análise Probabilística, Classificador e Conclusões**\n",
    "\n",
    "Levando em considerações as probabilidades calculadas, criamos um ***sistema de classificação***:\n",
    "\n",
    "* Probabilidade de ser bloco, dado avançado: `Mercosul 28.57% x 71.43% UE`\n",
    "* Probabilidade de ser bloco, dado atrasado: `Mercosul 30% x 70% UE`\n",
    "\n",
    "Assim, percebemos que nosso classificador terá um **problema**: ao mesmo que tempo que classificará países avançados como da UE — probabilidade dominante 71.43% —, também colocará países atrasados no bloco — probabilidade 70%.¹\n",
    "\n",
    "Ou seja, ao alimentar os países do estudo, **todos serão classificados como membros da União Européia**.\n",
    "\n",
    "Portanto podemos concluir que o indicador utilizado para análise é **enviesado**, pois não nos permite usá-lo para criar um classificador que *consiga distinguir os blocos*.\n",
    "\n",
    "Apesar disso, os ***resultados de acurácia*** foram interessantes:\n",
    "* Acertos **Mercosul: 0%**  \n",
    "* Acertos **UE: 100%**\n",
    "* Acertos **TOTAIS: 71.05%**\n",
    "\n",
    "São explicadas pelo *viés do modelo*, que causou acerto completo da UE, mas claro, nenhum do Mercosul.\n",
    "\n",
    "Por fim, conclui-se que esse indicador **não é um bom preditor para esses blocos econômicos** (o que não descarta sua importância na análise das ODEs, ele simplesmente não nos ajudou para criar um modelo entre esses blocos).\n",
    "\n",
    "---\n",
    "  \n",
    "¹ Cálculos completos abaixo no PDF\n",
    "\n",
    "***Observação***: Gráfico de distribuição disponível no **final do PDF**"
   ]
  },
  {
   "cell_type": "markdown",
   "metadata": {},
   "source": [
    "# **Classificação dos Países & Probabilidades Iniciais**"
   ]
  },
  {
   "cell_type": "markdown",
   "metadata": {},
   "source": [
    "#### ***Considerações:***\n",
    "\n",
    "Para a análise do Mercosul, foram levados em consideração todos os países oficiais do Mercosul (ARG, BRA, PAR, URU), mais os estados associados (BOL, CHI, COL, EQU, GUI, PER, SUR), totalizando **11 países.**\n",
    "\n",
    "*OBS: a Venezuela, por estar atualmente bloqueada do Mercosul, não foi levada em consideração.*\n",
    "\n",
    "No estudo da UE, foram levados em consideração todos os **27 países** do bloco.\n",
    "\n",
    "\n",
    "#### ***Observação:***\n",
    "\n",
    "Para classificar os países de ambos blocos econômicos em **Avançados** ou **Atrasados**, criamos um `fator de comparação`, calculado pela mediana da porcentagem do PIB investido em educação nos anos analisados na 1ª entrega (2004 a 2018), e então tirada a média do período. Para ser considerado avançado, **a mediana do investimento de uma nação durante esses anos deve estar acima do fator**.¹\n"
   ]
  },
  {
   "cell_type": "code",
   "execution_count": 1,
   "metadata": {},
   "outputs": [
    {
     "name": "stdout",
     "output_type": "stream",
     "text": [
      "Probabilidade de país ser avançado, dado que faz parte do Mercosul: 72.73%\n",
      "Probabilidade de país ser avançado, dado que faz parte da União Europeia: 74.07%\n"
     ]
    },
    {
     "name": "stderr",
     "output_type": "stream",
     "text": [
      "C:\\Users\\neodr\\AppData\\Local\\Temp\\ipykernel_4544\\3636450969.py:20: SettingWithCopyWarning: \n",
      "A value is trying to be set on a copy of a slice from a DataFrame.\n",
      "Try using .loc[row_indexer,col_indexer] = value instead\n",
      "\n",
      "See the caveats in the documentation: https://pandas.pydata.org/pandas-docs/stable/user_guide/indexing.html#returning-a-view-versus-a-copy\n",
      "  mercosul['Avançado'] = mercosul[[str(i) for i in range(2004, 2019)]].median(axis=1) > fatorx\n",
      "C:\\Users\\neodr\\AppData\\Local\\Temp\\ipykernel_4544\\3636450969.py:23: SettingWithCopyWarning: \n",
      "A value is trying to be set on a copy of a slice from a DataFrame.\n",
      "Try using .loc[row_indexer,col_indexer] = value instead\n",
      "\n",
      "See the caveats in the documentation: https://pandas.pydata.org/pandas-docs/stable/user_guide/indexing.html#returning-a-view-versus-a-copy\n",
      "  eu['Avançado'] = eu[[str(i) for i in range(2004, 2019)]].median(axis=1) > fatorx\n"
     ]
    }
   ],
   "source": [
    "import pandas as pd\n",
    "import numpy as np\n",
    "import scipy.stats as stats\n",
    "\n",
    "df = pd.read_csv('dados/API_SE.XPD.TOTL.GD.ZS_DS2_en_csv_v2_4411877.csv', skiprows=4)\n",
    "\n",
    "#OBS: Venezuela está suspensa do Mercosur, portanto, não foi incluída no cálculo\n",
    "mercosul = df[df['Country Name'].isin(['Uruguay', 'Argentina', 'Paraguay', 'Brazil', 'Bolivia', 'Chile', 'Peru', 'Colombia', 'Ecuador', 'Guyana', 'Suriname'])]\n",
    "eu = df[df['Country Name'].isin(['Austria', 'Belgium', 'Bulgaria', 'Denmark', 'Finland', 'Germany', 'France', 'Greece', 'Ireland', 'Italy', 'Luxembourg', 'Netherlands', 'Portugal', 'Romania', 'Spain', 'Sweden', 'United Kingdom', 'Cyprus', 'Croatia', 'Czech Republic', 'Estonia', 'Hungary', 'Latvia', 'Lithuania', 'Malta', 'Poland', 'Slovakia', 'Slovenia'])]\n",
    "\n",
    "\n",
    "# Fator foi calculado pela mediana da % do PIB investido em educação nos anos analisados na APS1 (2004 a 2018), e então\n",
    "# calculada a média com todos os anos. O fator foi aplicado para que os valores de cada país fossem comparáveis.\n",
    "# Acima do fator, o país é considerado avançado em relação a ODS, e, abaixo, é considerado atrasado.\n",
    "fatorx = df[[str(i) for i in range(2004, 2019)]].median().mean() # ~ 4.15\n",
    "\n",
    "\n",
    "\n",
    "# cria coluna chamada Avançado no dataframe mercosul com True se a mediana dos anos 2004 a 2018 for maior que fatorx\n",
    "mercosul['Avançado'] = mercosul[[str(i) for i in range(2004, 2019)]].median(axis=1) > fatorx\n",
    "\n",
    "# cria coluna chamada Avançado no dataframe eu com True se a mediana dos anos 2004 a 2018 for maior que fatorx\n",
    "eu['Avançado'] = eu[[str(i) for i in range(2004, 2019)]].median(axis=1) > fatorx\n",
    "\n",
    "\n",
    "# Probabilidades Condicionais\n",
    "p_avancado_dado_mercosul = len(mercosul[mercosul['Avançado'] == True])/len(mercosul)\n",
    "p_avancado_dado_eu = len(eu[eu['Avançado'] == True])/len(eu)\n",
    "print(f'Probabilidade de país ser avançado, dado que faz parte do Mercosul: {p_avancado_dado_mercosul * 100 :.2f}%')\n",
    "print(f'Probabilidade de país ser avançado, dado que faz parte da União Europeia: {p_avancado_dado_eu * 100 :.2f}%')"
   ]
  },
  {
   "cell_type": "code",
   "execution_count": 48,
   "metadata": {},
   "outputs": [
    {
     "name": "stdout",
     "output_type": "stream",
     "text": [
      "BootstrapResult(confidence_interval=ConfidenceInterval(low=0.36363636363636365, high=0.8181818181818182), standard_error=0.13340109675240083)\n",
      "BootstrapResult(confidence_interval=ConfidenceInterval(low=0.5185185185185185, high=0.8148148148148148), standard_error=0.08465571563915963)\n"
     ]
    }
   ],
   "source": [
    "valores_merc = mercosul[[str(i) for i in range(2004, 2019)]].median(axis=1)\n",
    "valores_eu = eu[[str(i) for i in range(2004, 2019)]].median(axis=1)\n",
    "\n",
    "valores = (valores_merc,)\n",
    "\n",
    "def func(sample):\n",
    "    adv = [s for s in sample if s > fatorx]\n",
    "    return len(adv)/len(sample)\n",
    "\n",
    "resM = stats.bootstrap(valores, func, confidence_level=0.9, vectorized=False)\n",
    "print(resM)\n",
    "\n",
    "valores = (valores_eu,)\n",
    "resEU = stats.bootstrap(valores, func, confidence_level=0.9, vectorized=False)\n",
    "print(resEU)"
   ]
  },
  {
   "cell_type": "code",
   "execution_count": 49,
   "metadata": {},
   "outputs": [
    {
     "name": "stdout",
     "output_type": "stream",
     "text": [
      "BootstrapResult(confidence_interval=ConfidenceInterval(low=0.0, high=0.45454545454545453), standard_error=0.13455953838329432)\n",
      "BootstrapResult(confidence_interval=ConfidenceInterval(low=0.1111111111111111, high=0.37037037037037035), standard_error=0.08402741331727796)\n"
     ]
    }
   ],
   "source": [
    "def func2(sample):\n",
    "    adv = [s for s in sample if s < fatorx]\n",
    "    return len(adv)/len(sample)\n",
    "\n",
    "valores = (valores_merc,)\n",
    "resM2 = stats.bootstrap(valores, func2, confidence_level=0.9, vectorized=False)\n",
    "print(resM2)\n",
    "\n",
    "valores = (valores_eu,)\n",
    "resEU2 = stats.bootstrap(valores, func2, confidence_level=0.9, vectorized=False)\n",
    "print(resEU2)"
   ]
  },
  {
   "cell_type": "code",
   "execution_count": 38,
   "metadata": {},
   "outputs": [],
   "source": [
    "import matplotlib.pyplot as plt\n",
    "import seaborn as sns"
   ]
  },
  {
   "cell_type": "code",
   "execution_count": 67,
   "metadata": {},
   "outputs": [
    {
     "data": {
      "image/png": "[encoded data removed]",
      "text/plain": [
       "<Figure size 864x432 with 1 Axes>"
      ]
     },
     "metadata": {},
     "output_type": "display_data"
    }
   ],
   "source": [
    "labels = ['Avançados', 'Atrasados']\n",
    "\n",
    "sns.set_theme()\n",
    "\n",
    "p_atrasado_dado_mercosul = 1 - p_avancado_dado_mercosul\n",
    "p_atrasado_dado_eu = 1 - p_avancado_dado_eu\n",
    "\n",
    "dados_mercosul = [p_avancado_dado_mercosul, p_atrasado_dado_mercosul]\n",
    "dados_eu = [p_avancado_dado_eu, p_atrasado_dado_eu]\n",
    "\n",
    "x = np.arange(len(labels))  # the label locations\n",
    "width = 0.35  # the width of the bars\n",
    "\n",
    "fig, ax = plt.subplots(figsize=(12, 6))\n",
    "rects1 = ax.bar(x - width/2, dados_mercosul, width, label='Mercosul', yerr=[resM.standard_error, resM2.standard_error], capsize=10)\n",
    "rects2 = ax.bar(x + width/2, dados_eu, width, label='UE', yerr=[resEU.standard_error, resEU2.standard_error], capsize=10)\n",
    "\n",
    "# Add some text for labels, title and custom x-axis tick labels, etc.\n",
    "ax.set_ylabel('Probabilidade (decimal)')\n",
    "ax.set_title('Probabilidade de ser Avançado ou Atrasado, \\n dado que é do Bloco')\n",
    "ax.set_xticks(x, labels)\n",
    "ax.legend()\n",
    "\n",
    "ax.bar_label(rects1, padding=3, fmt='%.2f')\n",
    "ax.bar_label(rects2, padding=3, fmt='%.2f')\n",
    "\n",
    "fig.tight_layout()\n",
    "\n",
    "plt.show()"
   ]
  }
 ],
 "metadata": {
  "kernelspec": {
   "display_name": "Python 3.10.4 64-bit",
   "language": "python",
   "name": "python3"
  },
  "language_info": {
   "codemirror_mode": {
    "name": "ipython",
    "version": 3
   },
   "file_extension": ".py",
   "mimetype": "text/x-python",
   "name": "python",
   "nbconvert_exporter": "python",
   "pygments_lexer": "ipython3",
   "version": "3.10.4"
  },
  "orig_nbformat": 4,
  "vscode": {
   "interpreter": {
    "hash": "131e3bae2b6f65df51299925ad1c5807def7472730ea16fcc259ec2d3cca7736"
   }
  }
 },
 "nbformat": 4,
 "nbformat_minor": 2
}
