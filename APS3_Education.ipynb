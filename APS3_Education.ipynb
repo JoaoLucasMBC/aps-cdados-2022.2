{
 "cells": [
  {
   "cell_type": "markdown",
   "metadata": {},
   "source": [
    "Atividade Prática Supervisionada - Entrega 3 - Probabilidades e Classificadores\n",
    "# ***ONU - Análise de Objetivo de Desenvolvimento Sustentável***\n",
    "### **Estátistica de Blocos Econômicos e Desenvolvimento**\n",
    "\n",
    "Integrantes:  \n",
    "* Eduardo Mendes Vaz  \n",
    "* João Lucas de Moraes Barros Cadorniga  \n",
    "\n",
    "---"
   ]
  },
  {
   "cell_type": "markdown",
   "metadata": {},
   "source": [
    "## **Introdução**  \n",
    "\n",
    "Na primeira análise do desenvolvimento mundial em relação ao Objetivo de Desenvolvimento Sustentável IV da ONU — o de investimento e melhoria das oportunidades educacionais —, utilizamos o fator `Investimento Governamental em Educação, como % do PIB`¹ ao longo dos anos. Agora, utilizando da área de probabilidade e estatística, temos o objetivo de analisar e classificar dois blocos econômicos em relação a esses dados.  \n",
    "\n",
    "## 1. Mercosul  \n",
    "\n",
    "O primeiro bloco econômico estudado é o Mercado Comum do Sul, um dos maiores blocos do hemisfério sul. Ele surgiu em 1991 como um processo de integração regional, inicialmente entre Argentina, Brasil, Paraguai e Uruguai — hoje admitindo direitos a outras nações sul-americanas, como Bolívia, Colômbia e Equador.\n",
    "\n",
    "Desde sua criação, com o Tratado de Assunção, seu maior foco foram os alicerces de desenvolvimento econômico e democrático. No entanto, hoje, também vigoram acordos em relação a quesitos, migratórios, trabalhistas, sociais, entre outros. O bloco surgiu principalmente pela proximidade geográfica, mas também pela convergência das culturas e da economia de muitos países sul-americanos. \n",
    "\n",
    "Entre os principais benefícios dos membros do bloco, temos²:\n",
    "1. Residência legal com igualdade de direitos;\n",
    "2. Direito à nacionalidade para filhos;\n",
    "3. Turismo sem passaporte;\n",
    "4. Cursos de graduação acreditados pelo Mercosul;\n",
    "5. Transferência de educação pelos países;\n",
    "\n",
    "Mas, principalmente:\n",
    "* **A diminuição ou até isenção de barreiras tarifárias sobre o comércio de bens.** Além de transporte e acordos facilitados entre os membros da considerada **quinta economia do mundo**.\n",
    "\n",
    "Para a análise, foram levados em consideração todos os países oficiais do Mercosul (ARG, BRA, PAR, URU), mais os estados associados (BOL, CHI, COL, EQU, GUI, PER, SUR), totalizando 11 países.\n",
    "\n",
    "*OBS: a Venezuela, por estar atualmente bloqueada do Mercosul, não foi levada em consideração.*\n",
    "\n",
    "\n",
    "## 2. União Européia\n",
    "\n",
    "Analogamente, o outro bloco analisado é a União Europeia, que é considerada um dos mais poderosos do mundo — tanto por possuir inúmeros grandes países como membros, quanto por sua longa história.\n",
    "\n",
    "Composto por 27 países-membros, o grupo surgiu especialmente por proximidade geográfica no continente, como uma maneira de unir as economias da Europa pelo Tratado de Maastricht, em 1992. Apesar de foco econômico, a UE tem grande solidez em objetivos sustentáveis e sociais, como afirma em seu site: \"as prioridades da UE para 2019-2024: promover uma Europa verde, desenvolver a base económica, proteger os cidadãos e as suas liberdades.\"\n",
    "\n",
    "Os principais benefícios e projetos do bloco são³:\n",
    "1. Livre circulação de pessoas sem visto;  \n",
    "2. Serviços de saúde unificados e gratuitos;\n",
    "3. Carta dos direitos fundamentais da população;\n",
    "4. Acordos de diminuição de taxas e livre circulação de mercadorias;\n",
    "5. Proteção conjunta dos países;\n",
    "\n",
    "Mas, principalmente:\n",
    "* **A participação no *maior mercado único do mundo*, com moeda unificada, o Euro, e serviços telefônicos e digitais unificados.**  \n",
    "\n",
    "No estudo realizado, foram levados em consideração todos os países do bloco.\n",
    "\n",
    "  \n",
    "¹ Fonte: [World Bank](https://databank.worldbank.org/reports.aspx?source=sustainable-development-goals-%28sdgs%29#)  \n",
    "² Fonte: [Mercosul](https://www.mercosur.int/pt-br/beneficios-do-mercosul-rumo-aos-seus-28-anos/)  \n",
    "³ Fonte: [European Union](https://european-union.europa.eu/priorities-and-actions/achievements_pt)"
   ]
  },
  {
   "cell_type": "markdown",
   "metadata": {},
   "source": [
    "## **Análise Probabilística**  \n",
    "\n",
    "Para classificar os países de ambos blocos econômicos em **Avançados** ou **Atrasados**, criamos um fator de comparação, calculado pela mediana da porcentagem do PIB investido em educação nos anos analisados na 1ª entrega (2004 a 2018), e então tirada a média do período. A mediana do investimento de uma nação durante esses anos estando acima do fator, o país é considerado avançado em relação a ODS, e, caso abaixo, é considerado atrasado.¹\n",
    "\n",
    "A partir da divisão, foram calculadas algumas **probabilidades**: país ser avançado dado que é do Mercosul; ser avançado dado que é da UE; ser avançado no geral; fazer parte do Mercosul; fazer parte da UE, entre outras.\n",
    "\n",
    "No entanto, quatro delas são as mais importantes, pois ditam o **sistema de classificação de países desenvolvido**:\n",
    "\n",
    "* País ser do Mercosul, dado que é avançado: 28.57%\n",
    "* País ser da UE, dado que é avançado: 71.43%\n",
    "* País ser do Mercosul, dado que é atrasado: 30%\n",
    "* País ser da UE, dado que é atrasado: 70%\n",
    "\n",
    "¹Cálculos completos abaixo no PDF"
   ]
  },
  {
   "cell_type": "markdown",
   "metadata": {},
   "source": [
    "## **Classificador e Conclusões**\n",
    "\n",
    "Levando em considerações as probabilidades calculadas anteriormente, percebemos que nosso classificador terá um problema: ao mesmo que tempo que classificará países avançados como da UE — por ter probabilidade dominante de 71.43% —, também colocará países atrasados como participantes do bloco — com probabilidade de 70%.\n",
    "\n",
    "Ou seja, ao alimentar os países do estudo, **todos serão classificados como possíveis membros da União Européia**.\n",
    "\n",
    "Portanto podemos concluir que o indicador utilizado para análise é **enviesado**, pois não nos permite usá-lo para criar um classificador que consiga distinguir os blocos.\n",
    "\n",
    "Apesar disso, os resultados de acurácia foram interessantes:\n",
    "* Acertos Mercosul: 0%  \n",
    "* Acertos UE: 100%\n",
    "* Acertos TOTAIS: 71.05%\n",
    "\n",
    "As porcentagens são explicadas pelo viés do modelo, que causou acerto completo da UE, mas claro, nenhum do Mercosul.\n",
    "\n",
    "Esse fenômeno pode ser explicado por algumas hipóteses:\n",
    "\n",
    "* `Matemática`: o número de países membros da União Europeia é mais do que o dobro do Mercosul (como pode ser observado no gráfico desenvolvido¹), o que pode causar que os números da UE \"engulam\" os do Mercosul, causando superioridade tanto nas probabilidades de avançados quanto atrasados. Uma possível solução seria incluir mais blocos e países na análise.\n",
    "\n",
    "* `Geo-política`: os países da União Europeia são desenvolvidos, enquanto os do Mercosul são sub-desenvolvidos, levando a uma comparação *hemisfério sul x hemisfério norte*. Ao mesmo tempo, a UE também possui grande disparidade interna, com países altamente reconhecidos mundialmente, até pequenos países que possuem pouca contribuição econômica mundial, e que então muito provavelmente são atrasados em uma meta de investimento em educação. Enquanto isso, o Mercosul é mais equilibrado, com países muito semelhantes economicamente, com menor despariedade.\n",
    "\n",
    "\n",
    "Por fim, conclui-se que esse indicador **não é um bom preditor para esses blocos econômicos** (o que não descarta sua importância na análise das ODEs, ele simplesmente não nos ajudou para criar um modelo entre esses blocos).\n",
    "  \n",
    "  \n",
    "  \n",
    "¹ Gráfico de distribuição disponível no **final do PDF**\n",
    "\n",
    "---"
   ]
  },
  {
   "cell_type": "markdown",
   "metadata": {},
   "source": [
    "# **Classificação dos Países & Probabilidades Iniciais**"
   ]
  },
  {
   "cell_type": "code",
   "execution_count": 96,
   "metadata": {},
   "outputs": [
    {
     "name": "stdout",
     "output_type": "stream",
     "text": [
      "Probabilidade de país ser avançado, dado que faz parte do Mercosul: 72.73%\n",
      "Probabilidade de país ser avançado, dado que faz parte da União Europeia: 74.07%\n"
     ]
    },
    {
     "name": "stderr",
     "output_type": "stream",
     "text": [
      "C:\\Users\\neodr\\AppData\\Local\\Temp\\ipykernel_7140\\569763842.py:19: SettingWithCopyWarning: \n",
      "A value is trying to be set on a copy of a slice from a DataFrame.\n",
      "Try using .loc[row_indexer,col_indexer] = value instead\n",
      "\n",
      "See the caveats in the documentation: https://pandas.pydata.org/pandas-docs/stable/user_guide/indexing.html#returning-a-view-versus-a-copy\n",
      "  mercosul['Avançado'] = mercosul[[str(i) for i in range(2004, 2019)]].median(axis=1) > fatorx\n",
      "C:\\Users\\neodr\\AppData\\Local\\Temp\\ipykernel_7140\\569763842.py:22: SettingWithCopyWarning: \n",
      "A value is trying to be set on a copy of a slice from a DataFrame.\n",
      "Try using .loc[row_indexer,col_indexer] = value instead\n",
      "\n",
      "See the caveats in the documentation: https://pandas.pydata.org/pandas-docs/stable/user_guide/indexing.html#returning-a-view-versus-a-copy\n",
      "  eu['Avançado'] = eu[[str(i) for i in range(2004, 2019)]].median(axis=1) > fatorx\n"
     ]
    }
   ],
   "source": [
    "import pandas as pd\n",
    "import numpy as np\n",
    "\n",
    "df = pd.read_csv('dados/API_SE.XPD.TOTL.GD.ZS_DS2_en_csv_v2_4411877.csv', skiprows=4)\n",
    "\n",
    "#OBS: Venezuela está suspensa do Mercosur, portanto, não foi incluída no cálculo\n",
    "mercosul = df[df['Country Name'].isin(['Uruguay', 'Argentina', 'Paraguay', 'Brazil', 'Bolivia', 'Chile', 'Peru', 'Colombia', 'Ecuador', 'Guyana', 'Suriname'])]\n",
    "eu = df[df['Country Name'].isin(['Austria', 'Belgium', 'Bulgaria', 'Denmark', 'Finland', 'Germany', 'France', 'Greece', 'Ireland', 'Italy', 'Luxembourg', 'Netherlands', 'Portugal', 'Romania', 'Spain', 'Sweden', 'United Kingdom', 'Cyprus', 'Croatia', 'Czech Republic', 'Estonia', 'Hungary', 'Latvia', 'Lithuania', 'Malta', 'Poland', 'Slovakia', 'Slovenia'])]\n",
    "\n",
    "\n",
    "# Fator foi calculado pela mediana da % do PIB investido em educação nos anos analisados na APS1 (2004 a 2018), e então\n",
    "# calculada a média com todos os anos. O fator foi aplicado para que os valores de cada país fossem comparáveis.\n",
    "# Acima do fator, o país é considerado avançado em relação a ODS, e, abaixo, é considerado atrasado.\n",
    "fatorx = df[[str(i) for i in range(2004, 2019)]].median().mean() # ~ 4.15\n",
    "\n",
    "\n",
    "\n",
    "# cria coluna chamada Avançado no dataframe mercosul com True se a mediana dos anos 2004 a 2018 for maior que fatorx\n",
    "mercosul['Avançado'] = mercosul[[str(i) for i in range(2004, 2019)]].median(axis=1) > fatorx\n",
    "\n",
    "# cria coluna chamada Avançado no dataframe eu com True se a mediana dos anos 2004 a 2018 for maior que fatorx\n",
    "eu['Avançado'] = eu[[str(i) for i in range(2004, 2019)]].median(axis=1) > fatorx\n",
    "\n",
    "\n",
    "# Probabilidades Condicionais\n",
    "p_avancado_dado_mercosul = len(mercosul[mercosul['Avançado'] == True])/len(mercosul)\n",
    "p_avancado_dado_eu = len(eu[eu['Avançado'] == True])/len(eu)\n",
    "print(f'Probabilidade de país ser avançado, dado que faz parte do Mercosul: {p_avancado_dado_mercosul * 100 :.2f}%')\n",
    "print(f'Probabilidade de país ser avançado, dado que faz parte da União Europeia: {p_avancado_dado_eu * 100 :.2f}%')"
   ]
  },
  {
   "cell_type": "markdown",
   "metadata": {},
   "source": [
    "# Probabilidades Condicionais utilizando o Teorema de Bayes"
   ]
  },
  {
   "cell_type": "code",
   "execution_count": 97,
   "metadata": {},
   "outputs": [
    {
     "name": "stdout",
     "output_type": "stream",
     "text": [
      "Probabilidade de ser avançado: 73.68%\n",
      "Probabilidade de fazer parte do Mercosul: 28.95%\n",
      "Probabilidade de fazer parte da União Européia: 71.05%\n",
      "Probabilidade de ser do Mercosul, dado que é avançado: 28.57%\n",
      "Probabilidade de ser da UE, dado que é avançado:: 71.43%\n"
     ]
    },
    {
     "name": "stderr",
     "output_type": "stream",
     "text": [
      "C:\\Users\\neodr\\AppData\\Local\\Temp\\ipykernel_7140\\2821323730.py:5: SettingWithCopyWarning: \n",
      "A value is trying to be set on a copy of a slice from a DataFrame.\n",
      "Try using .loc[row_indexer,col_indexer] = value instead\n",
      "\n",
      "See the caveats in the documentation: https://pandas.pydata.org/pandas-docs/stable/user_guide/indexing.html#returning-a-view-versus-a-copy\n",
      "  paises_analisados['Avançado'] = paises_analisados[[str(i) for i in range(2004, 2019)]].median(axis=1) > fatorx\n"
     ]
    }
   ],
   "source": [
    "# Dataframe de todos os países analisados\n",
    "paises_analisados = df[df['Country Name'].isin(['Uruguay', 'Argentina', 'Paraguay', 'Brazil', 'Bolivia', 'Chile', 'Peru', 'Colombia', 'Ecuador', 'Guyana', 'Suriname', 'Austria', 'Belgium', 'Bulgaria', 'Denmark', 'Finland', 'Germany', 'France', 'Greece', 'Ireland', 'Italy', 'Luxembourg', 'Netherlands', 'Portugal', 'Romania', 'Spain', 'Sweden', 'United Kingdom', 'Cyprus', 'Croatia', 'Czech Republic', 'Estonia', 'Hungary', 'Latvia', 'Lithuania', 'Malta', 'Poland', 'Slovakia', 'Slovenia'])]\n",
    "\n",
    "# Coluna de Avançado\n",
    "paises_analisados['Avançado'] = paises_analisados[[str(i) for i in range(2004, 2019)]].median(axis=1) > fatorx\n",
    "\n",
    "# Probabilidade de país ser avançado no nosso universo de países analisados\n",
    "p_avancado = len(paises_analisados[paises_analisados['Avançado'] == True])/len(paises_analisados)\n",
    "print(f'Probabilidade de ser avançado: {p_avancado * 100 :.2f}%')\n",
    "\n",
    "\n",
    "# Probabilidade de país fazer parte do Mercosul\n",
    "p_mercosul = len(mercosul)/len(paises_analisados)\n",
    "print(f'Probabilidade de fazer parte do Mercosul: {p_mercosul * 100 :.2f}%')\n",
    "\n",
    "\n",
    "# Probabilidade de país fazer parte da União Europeia\n",
    "p_eu = len(eu)/len(paises_analisados)\n",
    "print(f'Probabilidade de fazer parte da União Européia: {p_eu * 100 :.2f}%')\n",
    "\n",
    "\n",
    "# Probabilidade de país fazer parte do Mercosul, dado que é avançado\n",
    "p_mercosul_dado_avancado = (p_avancado_dado_mercosul * p_mercosul)/p_avancado\n",
    "print(f'Probabilidade de ser do Mercosul, dado que é avançado: {p_mercosul_dado_avancado * 100 :.2f}%')\n",
    "\n",
    "\n",
    "# Probabilidade de país fazer parte da União Europeia, dado que é avançado\n",
    "p_eu_dado_avancado = (p_avancado_dado_eu * p_eu)/p_avancado\n",
    "print(f'Probabilidade de ser da UE, dado que é avançado:: {p_eu_dado_avancado * 100 :.2f}%')"
   ]
  },
  {
   "cell_type": "code",
   "execution_count": 98,
   "metadata": {},
   "outputs": [
    {
     "name": "stdout",
     "output_type": "stream",
     "text": [
      "Probabilidade de ser avançado: 26.32%\n",
      "Probabilidade de ser do Mercosul, dado que é atrasado: 30.00%\n",
      "Probabilidade de ser da UE, dado que é atrasado: 70.00%\n"
     ]
    }
   ],
   "source": [
    "# Probabilidade de país do universo analisado ser atrasado em relação ao investimento em educação\n",
    "p_atrasado = len(paises_analisados[paises_analisados['Avançado'] == False])/len(paises_analisados)\n",
    "print(f'Probabilidade de ser avançado: {p_atrasado * 100 :.2f}%')\n",
    "\n",
    "# Probabilidade de país do universo analisado ser atrasado, dado que faz parte do Mercosul\n",
    "p_atrasado_dado_mercosul = len(mercosul[mercosul['Avançado'] == False])/len(mercosul)\n",
    "# Probabilidade de país do universo analisado ser atrasado, dado que faz parte da União Europeia\n",
    "p_atrasado_dado_eu = len(eu[eu['Avançado'] == False])/len(eu)\n",
    "\n",
    "\n",
    "# Probabilidade de país ser do Mercosul, dado que é atrasado\n",
    "p_mercosul_dado_atrasado = (p_atrasado_dado_mercosul * p_mercosul)/p_atrasado\n",
    "print(f'Probabilidade de ser do Mercosul, dado que é atrasado: {p_mercosul_dado_atrasado * 100 :.2f}%')\n",
    "\n",
    "# Probabilidade de país ser da União Europeia, dado que é atrasado\n",
    "p_eu_dado_atrasado = (p_atrasado_dado_eu * p_eu)/p_atrasado\n",
    "print(f'Probabilidade de ser da UE, dado que é atrasado: {p_eu_dado_atrasado * 100 :.2f}%')"
   ]
  },
  {
   "cell_type": "markdown",
   "metadata": {},
   "source": [
    "# Classificador de Países"
   ]
  },
  {
   "cell_type": "code",
   "execution_count": 100,
   "metadata": {},
   "outputs": [
    {
     "name": "stdout",
     "output_type": "stream",
     "text": [
      "Porcentagem de acertos TOTAL: 71.05%\n",
      "Porcentagem de acertos para o Mercosul: 0.00%\n",
      "Porcentagem de acertos para a UE: 100.00%\n"
     ]
    },
    {
     "name": "stderr",
     "output_type": "stream",
     "text": [
      "C:\\Users\\neodr\\AppData\\Local\\Temp\\ipykernel_7140\\2126375194.py:9: SettingWithCopyWarning: \n",
      "A value is trying to be set on a copy of a slice from a DataFrame.\n",
      "Try using .loc[row_indexer,col_indexer] = value instead\n",
      "\n",
      "See the caveats in the documentation: https://pandas.pydata.org/pandas-docs/stable/user_guide/indexing.html#returning-a-view-versus-a-copy\n",
      "  paises_analisados['Classificação'] = paises_analisados['Avançado'].apply(classificador)\n"
     ]
    }
   ],
   "source": [
    "# Classificador enviesado criado pelas probabilidades encontradas de ser avançado ou atrasado\n",
    "def classificador(eh_avancado):\n",
    "    if eh_avancado:\n",
    "        return 'UE'\n",
    "    return 'UE'\n",
    "\n",
    "\n",
    "# Cria coluna de classificação aplicando o classificador em todos os países analisados\n",
    "paises_analisados['Classificação'] = paises_analisados['Avançado'].apply(classificador)\n",
    "\n",
    "\n",
    "corretos_mercosul = 0\n",
    "corretos_eu = 0\n",
    "# itera sobre todos os países analisados e confere se o classificador acertou\n",
    "for index, row in paises_analisados.iterrows():\n",
    "    if row['Classificação'] == 'UE' and row['Country Name'] in eu['Country Name'].values:\n",
    "        corretos_eu += 1\n",
    "    elif row['Classificação'] == 'Mercosul' and row['Country Name'] in mercosul['Country Name'].values:\n",
    "        corretos_mercosul += 1\n",
    "\n",
    "   \n",
    "print(f'Porcentagem de acertos TOTAL: {(corretos_mercosul + corretos_eu)/len(paises_analisados) * 100 :.2f}%')\n",
    "print(f'Porcentagem de acertos para o Mercosul: {corretos_mercosul/len(mercosul) * 100 :.2f}%')\n",
    "print(f'Porcentagem de acertos para a UE: {corretos_eu/len(eu) * 100 :.2f}%')\n"
   ]
  },
  {
   "cell_type": "markdown",
   "metadata": {},
   "source": [
    "# Distribuição dos Países dos Blocos"
   ]
  },
  {
   "cell_type": "code",
   "execution_count": 101,
   "metadata": {},
   "outputs": [
    {
     "data": {
      "text/plain": [
       "<Figure size 1152x648 with 0 Axes>"
      ]
     },
     "metadata": {},
     "output_type": "display_data"
    },
    {
     "data": {
      "image/png": "[encoded data removed]",
      "text/plain": [
       "<Figure size 1152x648 with 1 Axes>"
      ]
     },
     "metadata": {},
     "output_type": "display_data"
    }
   ],
   "source": [
    "import matplotlib.pyplot as plt\n",
    "import seaborn as sns\n",
    "\n",
    "plt.figure(figsize=(16, 9))\n",
    "\n",
    "sns.set_theme()\n",
    "sns.set_context(\"notebook\", font_scale=1.2, rc={\"lines.linewidth\": 2.5})\n",
    "sns.axes_style(\"whitegrid\")\n",
    "\n",
    "dados = pd.DataFrame()\n",
    "\n",
    "dados['Blocos'] = ['Mercosul', 'União Européia']\n",
    "dados['Avançado'] = [len(mercosul[mercosul['Avançado'] == True]), len(eu[eu['Avançado'] == True])]\n",
    "dados['Atrasado'] = [len(mercosul[mercosul['Avançado'] == False]), len(eu[eu['Avançado'] == False])]\n",
    "\n",
    "dados.plot.bar(x='Blocos', stacked=True, figsize=(16, 9), rot=0)\n",
    "\n",
    "plt.title('Um país avançado possui média de 4.15% do PIB anual investido em educação de 2003 a 2018', fontsize=14, fontweight='light')\n",
    "plt.suptitle('Distribuição de países avançados e atrasados por bloco econômico em relação à Investimento em Educação', fontsize=20, fontweight='bold')\n",
    "plt.xlabel('Blocos Econômicos', fontsize=14, fontweight='bold')\n",
    "plt.ylabel('Quantidade de países', fontsize=14, fontweight='bold')\n",
    "\n",
    "plt.legend(['Países Avançados', 'Países Atrasados'], loc='upper left', fontsize=16)\n",
    "\n",
    "plt.show()"
   ]
  },
  {
   "cell_type": "markdown",
   "metadata": {},
   "source": [
    "## **Atualizações de Feedback no Trabalho Anterior:**  \n",
    "* *Pedido: \"Faltou a legenda no gráfico da direita.\"*\n",
    "* Correção: legenda inserida, como visto na figura abaixo.  \n",
    "  \n",
    "\n",
    "![APS2-Corrigiada](APS2_corrigida.jpg)"
   ]
  }
 ],
 "metadata": {
  "kernelspec": {
   "display_name": "Python 3.10.4 64-bit",
   "language": "python",
   "name": "python3"
  },
  "language_info": {
   "codemirror_mode": {
    "name": "ipython",
    "version": 3
   },
   "file_extension": ".py",
   "mimetype": "text/x-python",
   "name": "python",
   "nbconvert_exporter": "python",
   "pygments_lexer": "ipython3",
   "version": "3.10.4"
  },
  "orig_nbformat": 4,
  "vscode": {
   "interpreter": {
    "hash": "131e3bae2b6f65df51299925ad1c5807def7472730ea16fcc259ec2d3cca7736"
   }
  }
 },
 "nbformat": 4,
 "nbformat_minor": 2
}
