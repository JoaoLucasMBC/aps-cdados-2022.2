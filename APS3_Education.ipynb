{
 "cells": [
  {
   "cell_type": "markdown",
   "metadata": {},
   "source": [
    "Atividade Prática Supervisionada - Entrega 3 - Correção e Covariância\n",
    "# ***ONU - Análise de Objetivo de Desenvolvimento Sustentável***\n",
    "### **Estátistica de Blocos Econômicos e Desenvolvimento**\n",
    "\n",
    "Integrantes:  \n",
    "* Eduardo Mendes Vaz  \n",
    "* João Lucas de Moraes Barros Cadorniga  \n",
    "\n",
    "---"
   ]
  },
  {
   "cell_type": "markdown",
   "metadata": {},
   "source": [
    "## **Introdução**  \n",
    "  \n",
    "  \n",
    "¹ Fonte: [World Bank](https://databank.worldbank.org/reports.aspx?source=sustainable-development-goals-%28sdgs%29#)\n",
    "\n",
    "## **Dados e Conclusões**  \n",
    "\n",
    "\n",
    "²Cálculos completos disponíveis no final do PDF\n",
    "\n",
    "## **Atualizações de Feedback no Gráfico Anterior:**  \n",
    "* Título trocado para \"Investimento em Educação\", como pedido  \n",
    "* Y-label trocado para \"Investimento (% do PIB)\", como pedido\n",
    "\n",
    "---"
   ]
  },
  {
   "cell_type": "code",
   "execution_count": null,
   "metadata": {},
   "outputs": [],
   "source": []
  }
 ],
 "metadata": {
  "kernelspec": {
   "display_name": "Python 3.10.4 64-bit",
   "language": "python",
   "name": "python3"
  },
  "language_info": {
   "codemirror_mode": {
    "name": "ipython",
    "version": 3
   },
   "file_extension": ".py",
   "mimetype": "text/x-python",
   "name": "python",
   "nbconvert_exporter": "python",
   "pygments_lexer": "ipython3",
   "version": "3.10.4"
  },
  "orig_nbformat": 4,
  "vscode": {
   "interpreter": {
    "hash": "131e3bae2b6f65df51299925ad1c5807def7472730ea16fcc259ec2d3cca7736"
   }
  }
 },
 "nbformat": 4,
 "nbformat_minor": 2
}
