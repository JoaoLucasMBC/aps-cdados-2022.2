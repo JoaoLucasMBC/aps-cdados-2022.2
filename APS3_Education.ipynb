{
 "cells": [
  {
   "cell_type": "markdown",
   "metadata": {},
   "source": [
    "Atividade Prática Supervisionada - Entrega 3 - Correção e Covariância\n",
    "# ***ONU - Análise de Objetivo de Desenvolvimento Sustentável***\n",
    "### **Estátistica de Blocos Econômicos e Desenvolvimento**\n",
    "\n",
    "Integrantes:  \n",
    "* Eduardo Mendes Vaz  \n",
    "* João Lucas de Moraes Barros Cadorniga  \n",
    "\n",
    "---"
   ]
  },
  {
   "cell_type": "markdown",
   "metadata": {},
   "source": [
    "## **Introdução**  \n",
    "  \n",
    "  \n",
    "¹ Fonte: [World Bank](https://databank.worldbank.org/reports.aspx?source=sustainable-development-goals-%28sdgs%29#)\n",
    "\n",
    "## **Dados e Conclusões**  \n",
    "\n",
    "\n",
    "²Cálculos completos disponíveis no final do PDF\n",
    "\n",
    "## **Atualizações de Feedback no Gráfico Anterior:**  \n",
    "* Título trocado para \"Investimento em Educação\", como pedido  \n",
    "* Y-label trocado para \"Investimento (% do PIB)\", como pedido\n",
    "\n",
    "---"
   ]
  },
  {
   "cell_type": "code",
   "execution_count": 49,
   "metadata": {},
   "outputs": [
    {
     "name": "stdout",
     "output_type": "stream",
     "text": [
      "0.6666666666666666\n",
      "0.7407407407407407\n"
     ]
    },
    {
     "name": "stderr",
     "output_type": "stream",
     "text": [
      "C:\\Users\\neodr\\AppData\\Local\\Temp\\ipykernel_23400\\516277050.py:13: SettingWithCopyWarning: \n",
      "A value is trying to be set on a copy of a slice from a DataFrame.\n",
      "Try using .loc[row_indexer,col_indexer] = value instead\n",
      "\n",
      "See the caveats in the documentation: https://pandas.pydata.org/pandas-docs/stable/user_guide/indexing.html#returning-a-view-versus-a-copy\n",
      "  mercosul['Avançado'] = mercosul[[str(i) for i in range(2004, 2019)]].median(axis=1) > fatorx\n",
      "C:\\Users\\neodr\\AppData\\Local\\Temp\\ipykernel_23400\\516277050.py:16: SettingWithCopyWarning: \n",
      "A value is trying to be set on a copy of a slice from a DataFrame.\n",
      "Try using .loc[row_indexer,col_indexer] = value instead\n",
      "\n",
      "See the caveats in the documentation: https://pandas.pydata.org/pandas-docs/stable/user_guide/indexing.html#returning-a-view-versus-a-copy\n",
      "  eu['Avançado'] = eu[[str(i) for i in range(2004, 2019)]].median(axis=1) > fatorx\n"
     ]
    }
   ],
   "source": [
    "import pandas as pd\n",
    "import numpy as np\n",
    "\n",
    "df = pd.read_csv('dados/API_SE.XPD.TOTL.GD.ZS_DS2_en_csv_v2_4411877.csv', skiprows=4)\n",
    "\n",
    "mercosul = df[df['Country Name'].isin(['Uruguay', 'Argentina', 'Paraguay', 'Brazil', 'Venezuela, RB', 'Bolivia'])]\n",
    "eu = df[df['Country Name'].isin(['Austria', 'Belgium', 'Bulgaria', 'Denmark', 'Finland', 'Germany', 'France', 'Greece', 'Ireland', 'Italy', 'Luxembourg', 'Netherlands', 'Portugal', 'Romania', 'Spain', 'Sweden', 'United Kingdom', 'Cyprus', 'Croatia', 'Czech Republic', 'Estonia', 'Hungary', 'Latvia', 'Lithuania', 'Malta', 'Poland', 'Slovakia', 'Slovenia'])]\n",
    "\n",
    "\n",
    "fatorx = df[[str(i) for i in range(2004, 2019)]].median().mean()\n",
    "\n",
    "# creates column called Avançado in mercosul dataframe with True if the median of the years 2004 to 2018 is greater than fatorx\n",
    "mercosul['Avançado'] = mercosul[[str(i) for i in range(2004, 2019)]].median(axis=1) > fatorx\n",
    "\n",
    "# creates column called Avançado in nafta dataframe with True if the median of the years 2004 to 2018 is greater than fatorx\n",
    "eu['Avançado'] = eu[[str(i) for i in range(2004, 2019)]].median(axis=1) > fatorx\n",
    "\n",
    "print(len(mercosul[mercosul['Avançado'] == True])/len(mercosul))\n",
    "print(len(eu[eu['Avançado'] == True])/len(eu))"
   ]
  },
  {
   "cell_type": "code",
   "execution_count": 59,
   "metadata": {},
   "outputs": [
    {
     "data": {
      "image/png": "[encoded data removed]",
      "text/plain": [
       "<Figure size 432x288 with 1 Axes>"
      ]
     },
     "metadata": {
      "needs_background": "light"
     },
     "output_type": "display_data"
    }
   ],
   "source": [
    "import matplotlib.pyplot as plt\n",
    "\n",
    "plt.figure()\n",
    "\n",
    "# create a graph comparing the number of advanced countries between mercosul and eu\n",
    "plt.bar(['MERCOSUL', 'EU'], [len(mercosul[mercosul['Avançado'] == True])/len(mercosul), len(eu[eu['Avançado'] == True])/len(eu)])\n",
    "\n",
    "\n",
    "plt.show()"
   ]
  }
 ],
 "metadata": {
  "kernelspec": {
   "display_name": "Python 3.10.4 64-bit",
   "language": "python",
   "name": "python3"
  },
  "language_info": {
   "codemirror_mode": {
    "name": "ipython",
    "version": 3
   },
   "file_extension": ".py",
   "mimetype": "text/x-python",
   "name": "python",
   "nbconvert_exporter": "python",
   "pygments_lexer": "ipython3",
   "version": "3.10.4"
  },
  "orig_nbformat": 4,
  "vscode": {
   "interpreter": {
    "hash": "131e3bae2b6f65df51299925ad1c5807def7472730ea16fcc259ec2d3cca7736"
   }
  }
 },
 "nbformat": 4,
 "nbformat_minor": 2
}
